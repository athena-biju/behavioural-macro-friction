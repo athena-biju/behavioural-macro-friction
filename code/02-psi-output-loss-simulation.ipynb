{
 "cells": [
  {
   "cell_type": "code",
   "execution_count": 1,
   "id": "56344b91-81da-45c9-a953-bdf5fd679907",
   "metadata": {},
   "outputs": [],
   "source": [
    "import numpy as np\n",
    "import matplotlib.pyplot as plt"
   ]
  },
  {
   "cell_type": "code",
   "execution_count": 2,
   "id": "fbc7bb5e-b0f1-4f29-adf0-64f01697d427",
   "metadata": {},
   "outputs": [],
   "source": [
    "T = 30 # time horizon (years)\n",
    "phi = 0.9 # persistence of ψ\n",
    "theta_gradual = -0.01 # effect of gradual policy per year\n",
    "theta_aggressive = -0.03 # effect of aggressive policy\n",
    "psi_0 = 0.2 # initial ψ value (e.g., India baseline)\n",
    "shock_sd = 0.005 # optional noise"
   ]
  },
  {
   "cell_type": "code",
   "execution_count": 3,
   "id": "f38c282b-0234-4d62-9f16-87271cb4c109",
   "metadata": {},
   "outputs": [],
   "source": [
    "psi_none = np.zeros(T)\n",
    "psi_gradual = np.zeros(T)\n",
    "psi_aggressive = np.zeros(T)"
   ]
  },
  {
   "cell_type": "code",
   "execution_count": 4,
   "id": "ae583c1a-8df3-4339-ac83-9c3f37f839c9",
   "metadata": {},
   "outputs": [],
   "source": [
    "psi_none[0] = psi_gradual[0] = psi_aggressive[0] = psi_0"
   ]
  },
  {
   "cell_type": "code",
   "execution_count": 5,
   "id": "932603f9-858a-4b23-9845-0b021391a9ab",
   "metadata": {},
   "outputs": [],
   "source": [
    "for t in range(1, T):\n",
    "    shock = np.random.normal(0, shock_sd) # optional cultural noise\n",
    "\n",
    "    psi_none[t] = phi * psi_none[t-1] + shock\n",
    "    psi_gradual[t] = phi * psi_gradual[t-1] + theta_gradual + shock\n",
    "    psi_aggressive[t] = phi * psi_aggressive[t-1] + theta_aggressive + shock"
   ]
  },
  {
   "cell_type": "code",
   "execution_count": null,
   "id": "994227b3-6543-4f27-a948-2f52c2517dc5",
   "metadata": {},
   "outputs": [],
   "source": [
    "plt.figure(figsize=(10, 6))\n",
    "plt.plot(psi_none, label='No Policy (ψ)', linestyle='--')\n",
    "plt.plot(psi_gradual, label='Gradual Policy Reform (ψ)', linestyle='-')\n",
    "plt.plot(psi_aggressive, label='Aggressive Reform (ψ)', linestyle='-.')\n",
    "\n",
    "plt.title(\"Evolution of Norm-Induced Wage Suppression (ψ) Over Time\")\n",
    "plt.xlabel(\"Years\")\n",
    "plt.ylabel(\"ψ (Suppression Index)\")\n",
    "plt.legend()\n",
    "plt.grid(True)\n",
    "plt.tight_layout()\n",
    "plt.show()"
   ]
  }
 ],
 "metadata": {
  "kernelspec": {
   "display_name": "Python 3 (ipykernel)",
   "language": "python",
   "name": "python3"
  },
  "language_info": {
   "codemirror_mode": {
    "name": "ipython",
    "version": 3
   },
   "file_extension": ".py",
   "mimetype": "text/x-python",
   "name": "python",
   "nbconvert_exporter": "python",
   "pygments_lexer": "ipython3",
   "version": "3.10.16"
  }
 },
 "nbformat": 4,
 "nbformat_minor": 5
}
