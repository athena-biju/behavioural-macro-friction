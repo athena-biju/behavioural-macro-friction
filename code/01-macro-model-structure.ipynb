{
 "cells": [
  {
   "cell_type": "code",
   "execution_count": 1,
   "id": "6619f6f9-35ca-49c1-9511-77904160b919",
   "metadata": {},
   "outputs": [],
   "source": [
    "import numpy as np\n",
    "import matplotlib.pyplot as plt\n",
    "\n",
    "# Production function parameters\n",
    "alpha = 0.6 # capital share (or male labor share here)\n",
    "A = 1 # productivity (normalized) - holding technology shocks constant, allowing the study of only gender norm distortions.\n",
    "\n",
    "# Labor inputs\n",
    "L_m = 1.0 # male labour\n",
    "L_f = 1.0 # female labour (unadjusted) - assuming that both groups have equal potential labour supply in the absence of friction.\n",
    "\n",
    "# ψ values to test\n",
    "psi_vals = np.linspace(0, 0.3, 100) # ψ from 0 to 0.3 - a norm-induced productivity distortion. This would lead to a supression of female wages.\n",
    "# Not due to a decrease in productivity, but this supression is caused by psychological or social norms. \n",
    "# Consider the effects of taste-based and/or statistical discrimination, or even a change attributable to institutional failure."
   ]
  },
  {
   "cell_type": "code",
   "execution_count": 2,
   "id": "134e5869-4472-4e0f-94e2-71874d5a6759",
   "metadata": {},
   "outputs": [],
   "source": [
    "# Output with ψ applied to female labor\n",
    "def output_with_psi(psi, A=1, alpha=0.6, L_m=1.0, L_f=1.0):\n",
    "    return A * (L_m)**alpha * ((1 - psi) * L_f)**(1 - alpha)\n",
    "\n",
    "# Compute outputs\n",
    "Y_baseline = output_with_psi(psi=0) # benchmark without friction\n",
    "Y_suppressed = [output_with_psi(psi) for psi in psi_vals]\n",
    "\n",
    "# Compute % output loss relative to baseline\n",
    "GDP_loss_percent = [(1 - (y / Y_baseline)) * 100 for y in Y_suppressed]"
   ]
  },
  {
   "cell_type": "code",
   "execution_count": null,
   "id": "55a0fa3d-ba08-4055-8d83-1fc1a36f158b",
   "metadata": {},
   "outputs": [],
   "source": [
    "plt.figure(figsize=(8, 5))\n",
    "plt.plot(psi_vals, GDP_loss_percent, linewidth=2)\n",
    "\n",
    "plt.xlabel(r'Norm-induced Friction $\\psi$', fontsize=12)\n",
    "plt.ylabel('Output Loss (%)', fontsize=12)\n",
    "plt.title(r'Macroeconomic Loss from Gender Norm Friction $\\psi$', fontsize=14)\n",
    "plt.grid(True)\n",
    "plt.tight_layout()\n",
    "plt.show()"
   ]
  },
  {
   "cell_type": "code",
   "execution_count": null,
   "id": "4a0dfa89-c27f-4e70-8ca6-ec007c0c46d0",
   "metadata": {},
   "outputs": [],
   "source": [
    "# For example: ψ = 0.1, α = 0.6\n",
    "psi_example = 0.1\n",
    "loss = 1 - output_with_psi(psi_example) / Y_baseline\n",
    "print(f\"For ψ = {psi_example}, GDP is reduced by approximately {loss*100:.2f}%\")"
   ]
  }
 ],
 "metadata": {
  "kernelspec": {
   "display_name": "Python 3 (ipykernel)",
   "language": "python",
   "name": "python3"
  },
  "language_info": {
   "codemirror_mode": {
    "name": "ipython",
    "version": 3
   },
   "file_extension": ".py",
   "mimetype": "text/x-python",
   "name": "python",
   "nbconvert_exporter": "python",
   "pygments_lexer": "ipython3",
   "version": "3.10.16"
  }
 },
 "nbformat": 4,
 "nbformat_minor": 5
}
