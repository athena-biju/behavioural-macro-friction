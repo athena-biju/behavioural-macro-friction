{
 "cells": [
  {
   "cell_type": "code",
   "execution_count": 11,
   "id": "82fda7d0-b7b3-46d3-8794-75968cddb648",
   "metadata": {},
   "outputs": [],
   "source": [
    "import numpy as np\n",
    "import matplotlib.pyplot as plt"
   ]
  },
  {
   "cell_type": "code",
   "execution_count": 1,
   "id": "6a2cb71c-3acb-48d6-b1e5-a829702a9e0e",
   "metadata": {},
   "outputs": [],
   "source": [
    "# LFP and utility parameters\n",
    "LFP_base = 0.75 # base female labor force participation rate (before ψ)\n",
    "wage_base = 100 # baseline counterfactual wage\n",
    "alpha = 0.6 # production share of male labor\n",
    "T = 30 # time horizon\n",
    "\n",
    "# Utility model (simplified): U = ln(c)\n",
    "beta = 0.95 # time discount factor"
   ]
  },
  {
   "cell_type": "code",
   "execution_count": 4,
   "id": "fbcb460d-15b4-4258-837c-f0a38f93493b",
   "metadata": {},
   "outputs": [],
   "source": [
    "psi_path = [0.1 * (0.95)**t for t in range(T)]  # decaying ψ over time\n",
    "LFP_path = []\n",
    "U_path = []\n",
    "\n",
    "for t in range(T):\n",
    "    psi_t = psi_path[t]\n",
    "    LFP_t = LFP_base * (1 - psi_t)  # ψ reduces participation\n",
    "    wage_t = wage_base * (1 - psi_t)\n",
    "    consumption = wage_t * LFP_t\n",
    "    utility = (beta**t) * np.log(consumption)\n",
    "    \n",
    "    LFP_path.append(LFP_t)\n",
    "    U_path.append(utility)"
   ]
  },
  {
   "cell_type": "code",
   "execution_count": null,
   "id": "a215d814-d8f0-4ed7-9f4a-2a597972b6df",
   "metadata": {},
   "outputs": [],
   "source": [
    "plt.figure(figsize=(12,5))\n",
    "\n",
    "plt.subplot(1, 2, 1)\n",
    "plt.plot(range(T), LFP_path, label='Female LFP')\n",
    "plt.title('Female Labor Force Participation Over Time')\n",
    "plt.xlabel('Year'); plt.ylabel('Participation Rate')\n",
    "\n",
    "plt.subplot(1, 2, 2)\n",
    "plt.plot(range(T), np.cumsum(U_path), label='Cumulative Welfare')\n",
    "plt.title('Cumulative Welfare (Log Utility)')\n",
    "plt.xlabel('Year'); plt.ylabel('Total Utility')\n",
    "\n",
    "plt.tight_layout()\n",
    "plt.show() # Even a modest decline in ψ leads to meaningful gains in participation and welfare."
   ]
  }
 ],
 "metadata": {
  "kernelspec": {
   "display_name": "Python 3 (ipykernel)",
   "language": "python",
   "name": "python3"
  },
  "language_info": {
   "codemirror_mode": {
    "name": "ipython",
    "version": 3
   },
   "file_extension": ".py",
   "mimetype": "text/x-python",
   "name": "python",
   "nbconvert_exporter": "python",
   "pygments_lexer": "ipython3",
   "version": "3.10.16"
  }
 },
 "nbformat": 4,
 "nbformat_minor": 5
}
