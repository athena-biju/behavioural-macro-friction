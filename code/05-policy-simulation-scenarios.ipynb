{
 "cells": [
  {
   "cell_type": "code",
   "execution_count": 2,
   "id": "c183b465-e732-48e1-a3cb-630592f8a90e",
   "metadata": {},
   "outputs": [],
   "source": [
    "import numpy as np\n",
    "import matplotlib.pyplot as plt"
   ]
  },
  {
   "cell_type": "code",
   "execution_count": 3,
   "id": "1b540a2b-323e-4bbe-9fb6-a9766f4918d3",
   "metadata": {},
   "outputs": [],
   "source": [
    "# Define three ψ policy paths: no reform, full reform, gradual reform\n",
    "timesteps = 30\n",
    "psi_no_reform = np.full(timesteps, 0.1)\n",
    "psi_full_reform = np.zeros(timesteps)\n",
    "psi_gradual_reform = 0.1 * (0.95 ** np.arange(timesteps)) # ψ decays 5% each year"
   ]
  },
  {
   "cell_type": "code",
   "execution_count": 4,
   "id": "2849fc72-83ba-4871-8af0-4dda1a7f987a",
   "metadata": {},
   "outputs": [],
   "source": [
    "# Initialize parameters\n",
    "A = 1\n",
    "alpha = 0.6\n",
    "L_m = 1\n",
    "L_f = 1\n",
    "\n",
    "# Compute output under each ψ path\n",
    "Y_no_reform = A * (L_m ** alpha) * ((1 - psi_no_reform) * L_f) ** (1 - alpha)\n",
    "Y_full_reform = A * (L_m ** alpha) * ((1 - psi_full_reform) * L_f) ** (1 - alpha)\n",
    "Y_gradual_reform = A * (L_m ** alpha) * ((1 - psi_gradual_reform) * L_f) ** (1 - alpha)"
   ]
  },
  {
   "cell_type": "code",
   "execution_count": null,
   "id": "12e7934e-4834-4a82-bd34-fce4379c3b07",
   "metadata": {},
   "outputs": [],
   "source": [
    "plt.figure(figsize=(10, 6))\n",
    "plt.plot(Y_no_reform, label='No Reform (ψ = 0.1)', linestyle='--')\n",
    "plt.plot(Y_full_reform, label='Full Reform (ψ = 0)', linestyle='-')\n",
    "plt.plot(Y_gradual_reform, label='Gradual Reform (ψ decays)', linestyle='-.')\n",
    "plt.title('Counterfactual Output Paths Under Gender Norm Scenarios')\n",
    "plt.xlabel('Years')\n",
    "plt.ylabel('Output (Y)')\n",
    "plt.legend()\n",
    "plt.grid(True)\n",
    "plt.show()"
   ]
  },
  {
   "cell_type": "code",
   "execution_count": null,
   "id": "a7b3d258-4678-4c26-a446-4939698a1a6e",
   "metadata": {},
   "outputs": [],
   "source": [
    "# Calculate cumulative GDP under each scenario\n",
    "cum_Y_no_reform = np.sum(Y_no_reform)\n",
    "cum_Y_full_reform = np.sum(Y_full_reform)\n",
    "cum_Y_gradual_reform = np.sum(Y_gradual_reform)\n",
    "\n",
    "print(f\"Cumulative GDP Loss (No Reform vs Full Reform): {cum_Y_full_reform - cum_Y_no_reform:.2f}\")\n",
    "print(f\"Cumulative GDP Loss (Gradual vs Full Reform): {cum_Y_full_reform - cum_Y_gradual_reform:.2f}\")"
   ]
  }
 ],
 "metadata": {
  "kernelspec": {
   "display_name": "Python 3 (ipykernel)",
   "language": "python",
   "name": "python3"
  },
  "language_info": {
   "codemirror_mode": {
    "name": "ipython",
    "version": 3
   },
   "file_extension": ".py",
   "mimetype": "text/x-python",
   "name": "python",
   "nbconvert_exporter": "python",
   "pygments_lexer": "ipython3",
   "version": "3.10.16"
  }
 },
 "nbformat": 4,
 "nbformat_minor": 5
}
