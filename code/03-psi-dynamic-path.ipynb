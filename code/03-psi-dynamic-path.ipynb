{
 "cells": [
  {
   "cell_type": "code",
   "execution_count": 1,
   "id": "afd07402-5177-4ad7-8605-1cf27746d3d5",
   "metadata": {},
   "outputs": [],
   "source": [
    "# Cobb–Douglas production with suppressed female labor\n",
    "A = 1.0 # Normalized TFP\n",
    "L_m = 100 # Constant male labor units\n",
    "L_f = 100 # Constant female labor units\n",
    "alpha = 0.6 # Elasticity on male labor (1 - alpha for female)\n",
    "\n",
    "def compute_output(psi_series, label):\n",
    "    outputs = []\n",
    "    for psi in psi_series:\n",
    "        effective_Lf = (1 - psi) * L_f\n",
    "        Y = A * (L_m ** alpha) * (effective_Lf ** (1 - alpha))\n",
    "        outputs.append(Y)\n",
    "    return outputs"
   ]
  },
  {
   "cell_type": "code",
   "execution_count": 2,
   "id": "97a5dc63-2d7f-4c80-87b4-0b55f9eb91c7",
   "metadata": {},
   "outputs": [],
   "source": [
    "import numpy as np\n",
    "import matplotlib.pyplot as plt\n",
    "\n",
    "# Time horizon\n",
    "T = 30\n",
    "\n",
    "# Define different ψ_t paths\n",
    "psi_none = np.zeros(T) # Scenario a) ψ = 0\n",
    "psi_static = np.full(T, 0.1) # Scenario b) constant ψ = 0.1\n",
    "psi_declining = np.linspace(0.1, 0.01, T) # Scenario c) ψ_t → 0.01 gradually\n",
    "\n",
    "# Compute outputs for each path\n",
    "Y_none = compute_output(psi_none, \"ψ = 0\") # gender norm neutrality\n",
    "Y_static = compute_output(psi_static, \"ψ = 0.1\") # a conservative society with persistent norm-based suppression\n",
    "Y_decline = compute_output(psi_declining, \"ψ_t ↓\") # norms gradually weakening due to reform, generational change, etc."
   ]
  },
  {
   "cell_type": "code",
   "execution_count": null,
   "id": "92d0f2f8-a5fc-4abf-88c2-5b4a3ccb3f51",
   "metadata": {},
   "outputs": [],
   "source": [
    "# Plot GDP over time\n",
    "plt.figure(figsize=(10, 6))\n",
    "plt.plot(Y_none, label=\"ψ = 0 (Norm-Free)\", linestyle='--') # maximum attainable GDP\n",
    "plt.plot(Y_static, label=\"ψ = 0.1 (Static Norms)\", linestyle='-.')\n",
    "plt.plot(Y_decline, label=\"ψ_t ↓ (Reforming Norms)\", linestyle='-') # GDP recovery\n",
    "plt.title(\"Simulated Output Trajectories under Different ψ Paths\")\n",
    "plt.xlabel(\"Time (Years)\")\n",
    "plt.ylabel(\"GDP (Y_t)\")\n",
    "plt.legend()\n",
    "plt.grid(True)\n",
    "plt.tight_layout()\n",
    "plt.show()"
   ]
  },
  {
   "cell_type": "code",
   "execution_count": null,
   "id": "44c5c408-acfe-4b3c-86cb-b4ded7161a5b",
   "metadata": {},
   "outputs": [],
   "source": [
    "# Compute cumulative GDP\n",
    "cum_Y_none = np.cumsum(Y_none)\n",
    "cum_Y_static = np.cumsum(Y_static)\n",
    "cum_Y_decline = np.cumsum(Y_decline)\n",
    "\n",
    "# Compute GDP loss as difference from norm-free benchmark\n",
    "loss_static = cum_Y_none - cum_Y_static\n",
    "loss_decline = cum_Y_none - cum_Y_decline\n",
    "\n",
    "# Plot cumulative GDP losses\n",
    "plt.figure(figsize=(10, 6))\n",
    "plt.plot(loss_static, label=\"ψ = 0.1 (Static Norms)\", linestyle='-.')\n",
    "plt.plot(loss_decline, label=\"ψ_t ↓ (Reforming Norms)\", linestyle='-')\n",
    "plt.title(\"Cumulative GDP Loss Due to Norm-Induced Suppression\")\n",
    "plt.xlabel(\"Time (Years)\")\n",
    "plt.ylabel(\"Cumulative GDP Loss\")\n",
    "plt.legend()\n",
    "plt.grid(True)\n",
    "plt.tight_layout()\n",
    "plt.show()"
   ]
  }
 ],
 "metadata": {
  "kernelspec": {
   "display_name": "Python 3 (ipykernel)",
   "language": "python",
   "name": "python3"
  },
  "language_info": {
   "codemirror_mode": {
    "name": "ipython",
    "version": 3
   },
   "file_extension": ".py",
   "mimetype": "text/x-python",
   "name": "python",
   "nbconvert_exporter": "python",
   "pygments_lexer": "ipython3",
   "version": "3.10.16"
  }
 },
 "nbformat": 4,
 "nbformat_minor": 5
}
